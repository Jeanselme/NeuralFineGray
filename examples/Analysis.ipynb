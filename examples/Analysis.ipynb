{
 "cells": [
  {
   "cell_type": "code",
   "execution_count": 1,
   "metadata": {},
   "outputs": [],
   "source": [
    "import os \n",
    "import pickle\n",
    "import numpy as np\n",
    "import pandas as pd\n",
    "import matplotlib.pyplot as plt\n",
    "\n",
    "import sys\n",
    "\n",
    "sys.path.append('../')\n",
    "sys.path.append('../DeepSurvivalMachines/')\n",
    "from nsc import datasets\n",
    "from experiment import Experiment"
   ]
  },
  {
   "cell_type": "code",
   "execution_count": 2,
   "metadata": {},
   "outputs": [],
   "source": [
    "dataset = 'FRAMINGHAM'\n",
    "size = False\n"
   ]
  },
  {
   "cell_type": "code",
   "execution_count": 41,
   "metadata": {},
   "outputs": [],
   "source": [
    "path = 'Results/'\n",
    "x, t, e, covariates = datasets.load_dataset(dataset, competing = True)\n",
    "competing = len(np.unique(e)) > 2"
   ]
  },
  {
   "cell_type": "code",
   "execution_count": 4,
   "metadata": {},
   "outputs": [],
   "source": [
    "def concordance(risk, k, e, t, time):\n",
    "    concordant, total = 0, 0\n",
    "    e_, t_ = pd.Series(e, index = risk.index), pd.Series(t, index = risk.index)\n",
    "    for patienti in risk[(e_ == k) & (t_ < time)].index:\n",
    "        for patientj in risk[(t_ < t_.loc[patienti]) | (e_ != k)].index:\n",
    "            concordant += int(risk.loc[patienti] > risk.loc[patientj])\n",
    "            total += 1\n",
    "\n",
    "    return concordant / total\n",
    " "
   ]
  },
  {
   "cell_type": "code",
   "execution_count": 51,
   "metadata": {},
   "outputs": [],
   "source": [
    "from sksurv.metrics import concordance_index_ipcw, brier_score, cumulative_dynamic_auc, integrated_brier_score\n",
    "\n",
    "### Utils\n",
    "def evaluate(survival):\n",
    "    folds = survival.iloc[:, -1].values\n",
    "    survival = survival.iloc[:, :-1]\n",
    "    times = survival.columns.get_level_values(1).unique()\n",
    "    risk = 1 - survival\n",
    "\n",
    "    results = {}\n",
    "\n",
    "    for r in survival.columns.get_level_values(0).unique():\n",
    "        e_ = (e )#== int(r))\n",
    "        for fold in np.arange(5):\n",
    "            e_train, t_train = e_[folds != fold], t[folds != fold]\n",
    "            e_test,  t_test  = e_[folds == fold], t[folds == fold]\n",
    "\n",
    "            et_train = np.array([(e_train[i] != 0, t_train[i]) for i in range(len(e_train))], # TODO: CHECK IF THIS IS THE RIGHT WAY TO DO IN COMPETING RISK\n",
    "                            dtype = [('e', bool), ('t', float)])\n",
    "            et_test = np.array([(e_test[i] == int(r), t_test[i]) for i in range(len(e_test))],\n",
    "                            dtype = [('e', bool), ('t', float)])\n",
    "            selection = (t_test < t_train.max()) | (e[folds == fold] == 0)\n",
    "            \n",
    "            et_test = et_test[selection]\n",
    "            survival_fold = survival[folds == fold][r][selection]\n",
    "            risk_fold = risk[folds == fold][r][selection]\n",
    "\n",
    "            brs = brier_score(et_train, et_test, survival_fold.values, times)[1]\n",
    "            # Concordance and ROC for each time\n",
    "            gcis, cis, rocs, concs = [], [], [], []\n",
    "            for time in times:\n",
    "                gcis.append(concordance_index_ipcw(et_train, et_test, risk_fold[time])[0])\n",
    "                cis.append(concordance_index_ipcw(et_train, et_test, risk_fold[time], float(time))[0])\n",
    "                rocs.append(cumulative_dynamic_auc(et_train, et_test, risk_fold[time], float(time))[0][0])\n",
    "\n",
    "                concs.append(concordance(risk_fold[time], int(r), e[folds == fold], t[folds == fold], float(time)))\n",
    "\n",
    "            results[(r, fold)] = pd.DataFrame.from_dict({\"GCIS\": gcis, \"CIS\": cis, \"BRS\": brs, \"ROCS\": rocs, \"C-Comp\": concs}, orient='index', columns = times)\n",
    "    results = pd.concat(results)\n",
    "    results.index.set_names(['Risk', 'Fold', 'Metric'], inplace = True)\n",
    "\n",
    "    return results"
   ]
  },
  {
   "cell_type": "code",
   "execution_count": 52,
   "metadata": {},
   "outputs": [
    {
     "name": "stdout",
     "output_type": "stream",
     "text": [
      "Opening : FRAMINGHAM_dsm.csv  -  dsm\n"
     ]
    }
   ],
   "source": [
    "# Open file\n",
    "predictions, clusters, results, likelihood = {}, {}, {}, {}\n",
    "for file_name in os.listdir(path):\n",
    "    if dataset in file_name and '.csv' in file_name: \n",
    "        model = file_name       \n",
    "        if (dataset == 'SYNTHETIC_COMPETING') and (dataset in file_name):\n",
    "            model = model.replace(dataset, dataset.replace('_', ' '))\n",
    "        model = model[model.index('_') + 1: model.index('.')]\n",
    "\n",
    "        if size and model.count('_') != 1: continue\n",
    "        if not size and model.count('_') == 1: continue\n",
    "\n",
    "        print(\"Opening :\", file_name, ' - ', model)\n",
    "\n",
    "        if 'finegray' in model:\n",
    "            # Reinitialize index\n",
    "            predictions[model] = pd.read_csv(path + file_name, header = [0], index_col = 0)\n",
    "            index = pd.DataFrame([[i, t] for i in ('1', '2') for t in predictions[model].columns[:3]] + [['Use', '']])\n",
    "            predictions[model].columns = pd.MultiIndex.from_frame(index)\n",
    "        else:\n",
    "            predictions[model] = pd.read_csv(path + file_name, header = [0, 1], index_col = 0)\n",
    "        results[model] = evaluate(predictions[model])\n",
    "\n",
    "        cluster_file = file_name[: file_name.index('.')] + '_clusters.pickle'\n",
    "        if os.path.isfile(path + cluster_file):\n",
    "            clusters[model] = pickle.load(open(path + cluster_file, 'rb'))\n",
    "\n",
    "        # if size:\n",
    "        #     model_file = file_name[: file_name.index('.')] + '.pickle'\n",
    "        #     likelihood[model] = Experiment.load(path + model_file).likelihood(x, t, e)\n",
    "\n",
    "# Rename\n",
    "if size:\n",
    "    dict_name = {model: int(model[model.index('_') + 1:]) for model in results.keys()}\n",
    "elif competing:\n",
    "    dict_name = {'nsc': 'NSC', 'nsccs': 'NSC 1 vs Rest', 'cox': 'CoxPH CS', 'ds': 'DeepSurv 1 vs Rest', 'dsm': 'DSM 1 vs Rest', 'dcm': 'DCM 1 vs Rest', 'dh': 'DeepHit 1 vs Rest', 'finegray': 'Fine Gray'} \n",
    "else:\n",
    "    dict_name = {'nsc': 'NSC', 'cox': 'CoxPH', 'ds': 'DeepSurv', 'dsm': 'DSM', 'dcm': 'DCM', 'dh': 'DeepHit'} \n",
    "\n",
    "\n",
    "likelihood = pd.DataFrame.from_dict(likelihood, 'index').rename(dict_name)\n",
    "results = pd.concat(results).rename(dict_name)\n",
    "results.index.set_names('Model', 0, inplace = True)"
   ]
  },
  {
   "cell_type": "code",
   "execution_count": 50,
   "metadata": {},
   "outputs": [
    {
     "data": {
      "text/html": [
       "<div>\n",
       "<style scoped>\n",
       "    .dataframe tbody tr th:only-of-type {\n",
       "        vertical-align: middle;\n",
       "    }\n",
       "\n",
       "    .dataframe tbody tr th {\n",
       "        vertical-align: top;\n",
       "    }\n",
       "\n",
       "    .dataframe thead tr th {\n",
       "        text-align: left;\n",
       "    }\n",
       "\n",
       "    .dataframe thead tr:last-of-type th {\n",
       "        text-align: right;\n",
       "    }\n",
       "</style>\n",
       "<table border=\"1\" class=\"dataframe\">\n",
       "  <thead>\n",
       "    <tr>\n",
       "      <th></th>\n",
       "      <th>Metric</th>\n",
       "      <th colspan=\"3\" halign=\"left\">C-Comp</th>\n",
       "      <th colspan=\"3\" halign=\"left\">CIS</th>\n",
       "      <th colspan=\"3\" halign=\"left\">BRS</th>\n",
       "    </tr>\n",
       "    <tr>\n",
       "      <th></th>\n",
       "      <th></th>\n",
       "      <th>2153.75</th>\n",
       "      <th>4589.50</th>\n",
       "      <th>6620.75</th>\n",
       "      <th>2153.75</th>\n",
       "      <th>4589.50</th>\n",
       "      <th>6620.75</th>\n",
       "      <th>2153.75</th>\n",
       "      <th>4589.50</th>\n",
       "      <th>6620.75</th>\n",
       "    </tr>\n",
       "    <tr>\n",
       "      <th>Risk</th>\n",
       "      <th>Model</th>\n",
       "      <th></th>\n",
       "      <th></th>\n",
       "      <th></th>\n",
       "      <th></th>\n",
       "      <th></th>\n",
       "      <th></th>\n",
       "      <th></th>\n",
       "      <th></th>\n",
       "      <th></th>\n",
       "    </tr>\n",
       "  </thead>\n",
       "  <tbody>\n",
       "    <tr>\n",
       "      <th rowspan=\"8\" valign=\"top\">1</th>\n",
       "      <th>NSC</th>\n",
       "      <td>0.000 (0.00)</td>\n",
       "      <td>0.000 (0.00)</td>\n",
       "      <td>0.000 (0.00)</td>\n",
       "      <td>0.859 (0.03)</td>\n",
       "      <td>0.803 (0.03)</td>\n",
       "      <td>0.758 (0.03)</td>\n",
       "      <td>0.061 (0.00)</td>\n",
       "      <td>0.105 (0.01)</td>\n",
       "      <td>0.134 (0.01)</td>\n",
       "    </tr>\n",
       "    <tr>\n",
       "      <th>NSC 1 vs Rest</th>\n",
       "      <td>0.000 (0.00)</td>\n",
       "      <td>0.000 (0.00)</td>\n",
       "      <td>0.000 (0.00)</td>\n",
       "      <td>0.868 (0.03)</td>\n",
       "      <td>0.805 (0.02)</td>\n",
       "      <td>0.781 (0.01)</td>\n",
       "      <td>0.053 (0.00)</td>\n",
       "      <td>0.094 (0.01)</td>\n",
       "      <td>0.119 (0.01)</td>\n",
       "    </tr>\n",
       "    <tr>\n",
       "      <th>DCM 1 vs Rest</th>\n",
       "      <td>0.000 (0.00)</td>\n",
       "      <td>0.000 (0.00)</td>\n",
       "      <td>0.000 (0.00)</td>\n",
       "      <td>0.827 (0.09)</td>\n",
       "      <td>0.771 (0.09)</td>\n",
       "      <td>0.748 (0.08)</td>\n",
       "      <td>0.069 (0.01)</td>\n",
       "      <td>0.108 (0.01)</td>\n",
       "      <td>0.134 (0.01)</td>\n",
       "    </tr>\n",
       "    <tr>\n",
       "      <th>DSM 1 vs Rest</th>\n",
       "      <td>0.000 (0.00)</td>\n",
       "      <td>0.000 (0.00)</td>\n",
       "      <td>0.000 (0.00)</td>\n",
       "      <td>0.867 (0.03)</td>\n",
       "      <td>0.808 (0.03)</td>\n",
       "      <td>0.783 (0.02)</td>\n",
       "      <td>0.056 (0.01)</td>\n",
       "      <td>0.099 (0.01)</td>\n",
       "      <td>0.129 (0.01)</td>\n",
       "    </tr>\n",
       "    <tr>\n",
       "      <th>DeepHit 1 vs Rest</th>\n",
       "      <td>0.000 (0.00)</td>\n",
       "      <td>0.000 (0.00)</td>\n",
       "      <td>0.000 (0.00)</td>\n",
       "      <td>0.858 (0.02)</td>\n",
       "      <td>0.780 (0.03)</td>\n",
       "      <td>0.741 (0.02)</td>\n",
       "      <td>0.050 (0.00)</td>\n",
       "      <td>0.096 (0.01)</td>\n",
       "      <td>0.129 (0.01)</td>\n",
       "    </tr>\n",
       "    <tr>\n",
       "      <th>DeepSurv 1 vs Rest</th>\n",
       "      <td>0.000 (0.00)</td>\n",
       "      <td>0.000 (0.00)</td>\n",
       "      <td>0.000 (0.00)</td>\n",
       "      <td>0.869 (0.03)</td>\n",
       "      <td>0.814 (0.02)</td>\n",
       "      <td>0.788 (0.01)</td>\n",
       "      <td>0.049 (0.01)</td>\n",
       "      <td>0.089 (0.01)</td>\n",
       "      <td>0.116 (0.01)</td>\n",
       "    </tr>\n",
       "    <tr>\n",
       "      <th>Fine Gray</th>\n",
       "      <td>0.000 (0.00)</td>\n",
       "      <td>0.000 (0.00)</td>\n",
       "      <td>0.000 (0.00)</td>\n",
       "      <td>0.866 (0.02)</td>\n",
       "      <td>0.810 (0.02)</td>\n",
       "      <td>0.786 (0.01)</td>\n",
       "      <td>0.052 (0.00)</td>\n",
       "      <td>0.091 (0.01)</td>\n",
       "      <td>0.118 (0.01)</td>\n",
       "    </tr>\n",
       "    <tr>\n",
       "      <th>CoxPH CS</th>\n",
       "      <td>0.000 (0.00)</td>\n",
       "      <td>0.000 (0.00)</td>\n",
       "      <td>0.000 (0.00)</td>\n",
       "      <td>0.871 (0.03)</td>\n",
       "      <td>0.814 (0.02)</td>\n",
       "      <td>0.786 (0.01)</td>\n",
       "      <td>0.059 (0.01)</td>\n",
       "      <td>0.098 (0.01)</td>\n",
       "      <td>0.125 (0.01)</td>\n",
       "    </tr>\n",
       "    <tr>\n",
       "      <th rowspan=\"8\" valign=\"top\">2</th>\n",
       "      <th>NSC</th>\n",
       "      <td>0.000 (0.00)</td>\n",
       "      <td>0.000 (0.00)</td>\n",
       "      <td>0.000 (0.00)</td>\n",
       "      <td>0.720 (0.07)</td>\n",
       "      <td>0.695 (0.03)</td>\n",
       "      <td>0.702 (0.02)</td>\n",
       "      <td>0.025 (0.00)</td>\n",
       "      <td>0.065 (0.01)</td>\n",
       "      <td>0.099 (0.01)</td>\n",
       "    </tr>\n",
       "    <tr>\n",
       "      <th>NSC 1 vs Rest</th>\n",
       "      <td>0.000 (0.00)</td>\n",
       "      <td>0.000 (0.00)</td>\n",
       "      <td>0.000 (0.00)</td>\n",
       "      <td>0.739 (0.07)</td>\n",
       "      <td>0.717 (0.02)</td>\n",
       "      <td>0.724 (0.02)</td>\n",
       "      <td>0.025 (0.00)</td>\n",
       "      <td>0.064 (0.01)</td>\n",
       "      <td>0.095 (0.01)</td>\n",
       "    </tr>\n",
       "    <tr>\n",
       "      <th>DCM 1 vs Rest</th>\n",
       "      <td>0.000 (0.00)</td>\n",
       "      <td>0.000 (0.00)</td>\n",
       "      <td>0.000 (0.00)</td>\n",
       "      <td>0.716 (0.06)</td>\n",
       "      <td>0.696 (0.02)</td>\n",
       "      <td>0.704 (0.02)</td>\n",
       "      <td>0.025 (0.00)</td>\n",
       "      <td>0.065 (0.01)</td>\n",
       "      <td>0.097 (0.01)</td>\n",
       "    </tr>\n",
       "    <tr>\n",
       "      <th>DSM 1 vs Rest</th>\n",
       "      <td>0.000 (0.00)</td>\n",
       "      <td>0.000 (0.00)</td>\n",
       "      <td>0.000 (0.00)</td>\n",
       "      <td>0.729 (0.08)</td>\n",
       "      <td>0.713 (0.03)</td>\n",
       "      <td>0.718 (0.02)</td>\n",
       "      <td>0.025 (0.00)</td>\n",
       "      <td>0.064 (0.01)</td>\n",
       "      <td>0.096 (0.01)</td>\n",
       "    </tr>\n",
       "    <tr>\n",
       "      <th>DeepHit 1 vs Rest</th>\n",
       "      <td>0.000 (0.00)</td>\n",
       "      <td>0.000 (0.00)</td>\n",
       "      <td>0.000 (0.00)</td>\n",
       "      <td>0.701 (0.07)</td>\n",
       "      <td>0.688 (0.04)</td>\n",
       "      <td>0.683 (0.02)</td>\n",
       "      <td>0.025 (0.00)</td>\n",
       "      <td>0.064 (0.01)</td>\n",
       "      <td>0.099 (0.01)</td>\n",
       "    </tr>\n",
       "    <tr>\n",
       "      <th>DeepSurv 1 vs Rest</th>\n",
       "      <td>0.000 (0.00)</td>\n",
       "      <td>0.000 (0.00)</td>\n",
       "      <td>0.000 (0.00)</td>\n",
       "      <td>0.735 (0.07)</td>\n",
       "      <td>0.708 (0.03)</td>\n",
       "      <td>0.714 (0.02)</td>\n",
       "      <td>0.025 (0.00)</td>\n",
       "      <td>0.062 (0.01)</td>\n",
       "      <td>0.092 (0.01)</td>\n",
       "    </tr>\n",
       "    <tr>\n",
       "      <th>Fine Gray</th>\n",
       "      <td>0.000 (0.00)</td>\n",
       "      <td>0.000 (0.00)</td>\n",
       "      <td>0.000 (0.00)</td>\n",
       "      <td>0.717 (0.08)</td>\n",
       "      <td>0.708 (0.02)</td>\n",
       "      <td>0.711 (0.02)</td>\n",
       "      <td>0.025 (0.00)</td>\n",
       "      <td>0.063 (0.01)</td>\n",
       "      <td>0.096 (0.01)</td>\n",
       "    </tr>\n",
       "    <tr>\n",
       "      <th>CoxPH CS</th>\n",
       "      <td>0.000 (0.00)</td>\n",
       "      <td>0.000 (0.00)</td>\n",
       "      <td>0.000 (0.00)</td>\n",
       "      <td>0.738 (0.06)</td>\n",
       "      <td>0.717 (0.02)</td>\n",
       "      <td>0.721 (0.02)</td>\n",
       "      <td>0.025 (0.00)</td>\n",
       "      <td>0.062 (0.01)</td>\n",
       "      <td>0.091 (0.01)</td>\n",
       "    </tr>\n",
       "  </tbody>\n",
       "</table>\n",
       "</div>"
      ],
      "text/plain": [
       "Metric                         C-Comp                              \\\n",
       "                              2153.75       4589.50       6620.75   \n",
       "Risk Model                                                          \n",
       "1    NSC                 0.000 (0.00)  0.000 (0.00)  0.000 (0.00)   \n",
       "     NSC 1 vs Rest       0.000 (0.00)  0.000 (0.00)  0.000 (0.00)   \n",
       "     DCM 1 vs Rest       0.000 (0.00)  0.000 (0.00)  0.000 (0.00)   \n",
       "     DSM 1 vs Rest       0.000 (0.00)  0.000 (0.00)  0.000 (0.00)   \n",
       "     DeepHit 1 vs Rest   0.000 (0.00)  0.000 (0.00)  0.000 (0.00)   \n",
       "     DeepSurv 1 vs Rest  0.000 (0.00)  0.000 (0.00)  0.000 (0.00)   \n",
       "     Fine Gray           0.000 (0.00)  0.000 (0.00)  0.000 (0.00)   \n",
       "     CoxPH CS            0.000 (0.00)  0.000 (0.00)  0.000 (0.00)   \n",
       "2    NSC                 0.000 (0.00)  0.000 (0.00)  0.000 (0.00)   \n",
       "     NSC 1 vs Rest       0.000 (0.00)  0.000 (0.00)  0.000 (0.00)   \n",
       "     DCM 1 vs Rest       0.000 (0.00)  0.000 (0.00)  0.000 (0.00)   \n",
       "     DSM 1 vs Rest       0.000 (0.00)  0.000 (0.00)  0.000 (0.00)   \n",
       "     DeepHit 1 vs Rest   0.000 (0.00)  0.000 (0.00)  0.000 (0.00)   \n",
       "     DeepSurv 1 vs Rest  0.000 (0.00)  0.000 (0.00)  0.000 (0.00)   \n",
       "     Fine Gray           0.000 (0.00)  0.000 (0.00)  0.000 (0.00)   \n",
       "     CoxPH CS            0.000 (0.00)  0.000 (0.00)  0.000 (0.00)   \n",
       "\n",
       "Metric                            CIS                              \\\n",
       "                              2153.75       4589.50       6620.75   \n",
       "Risk Model                                                          \n",
       "1    NSC                 0.859 (0.03)  0.803 (0.03)  0.758 (0.03)   \n",
       "     NSC 1 vs Rest       0.868 (0.03)  0.805 (0.02)  0.781 (0.01)   \n",
       "     DCM 1 vs Rest       0.827 (0.09)  0.771 (0.09)  0.748 (0.08)   \n",
       "     DSM 1 vs Rest       0.867 (0.03)  0.808 (0.03)  0.783 (0.02)   \n",
       "     DeepHit 1 vs Rest   0.858 (0.02)  0.780 (0.03)  0.741 (0.02)   \n",
       "     DeepSurv 1 vs Rest  0.869 (0.03)  0.814 (0.02)  0.788 (0.01)   \n",
       "     Fine Gray           0.866 (0.02)  0.810 (0.02)  0.786 (0.01)   \n",
       "     CoxPH CS            0.871 (0.03)  0.814 (0.02)  0.786 (0.01)   \n",
       "2    NSC                 0.720 (0.07)  0.695 (0.03)  0.702 (0.02)   \n",
       "     NSC 1 vs Rest       0.739 (0.07)  0.717 (0.02)  0.724 (0.02)   \n",
       "     DCM 1 vs Rest       0.716 (0.06)  0.696 (0.02)  0.704 (0.02)   \n",
       "     DSM 1 vs Rest       0.729 (0.08)  0.713 (0.03)  0.718 (0.02)   \n",
       "     DeepHit 1 vs Rest   0.701 (0.07)  0.688 (0.04)  0.683 (0.02)   \n",
       "     DeepSurv 1 vs Rest  0.735 (0.07)  0.708 (0.03)  0.714 (0.02)   \n",
       "     Fine Gray           0.717 (0.08)  0.708 (0.02)  0.711 (0.02)   \n",
       "     CoxPH CS            0.738 (0.06)  0.717 (0.02)  0.721 (0.02)   \n",
       "\n",
       "Metric                            BRS                              \n",
       "                              2153.75       4589.50       6620.75  \n",
       "Risk Model                                                         \n",
       "1    NSC                 0.061 (0.00)  0.105 (0.01)  0.134 (0.01)  \n",
       "     NSC 1 vs Rest       0.053 (0.00)  0.094 (0.01)  0.119 (0.01)  \n",
       "     DCM 1 vs Rest       0.069 (0.01)  0.108 (0.01)  0.134 (0.01)  \n",
       "     DSM 1 vs Rest       0.056 (0.01)  0.099 (0.01)  0.129 (0.01)  \n",
       "     DeepHit 1 vs Rest   0.050 (0.00)  0.096 (0.01)  0.129 (0.01)  \n",
       "     DeepSurv 1 vs Rest  0.049 (0.01)  0.089 (0.01)  0.116 (0.01)  \n",
       "     Fine Gray           0.052 (0.00)  0.091 (0.01)  0.118 (0.01)  \n",
       "     CoxPH CS            0.059 (0.01)  0.098 (0.01)  0.125 (0.01)  \n",
       "2    NSC                 0.025 (0.00)  0.065 (0.01)  0.099 (0.01)  \n",
       "     NSC 1 vs Rest       0.025 (0.00)  0.064 (0.01)  0.095 (0.01)  \n",
       "     DCM 1 vs Rest       0.025 (0.00)  0.065 (0.01)  0.097 (0.01)  \n",
       "     DSM 1 vs Rest       0.025 (0.00)  0.064 (0.01)  0.096 (0.01)  \n",
       "     DeepHit 1 vs Rest   0.025 (0.00)  0.064 (0.01)  0.099 (0.01)  \n",
       "     DeepSurv 1 vs Rest  0.025 (0.00)  0.062 (0.01)  0.092 (0.01)  \n",
       "     Fine Gray           0.025 (0.00)  0.063 (0.01)  0.096 (0.01)  \n",
       "     CoxPH CS            0.025 (0.00)  0.062 (0.01)  0.091 (0.01)  "
      ]
     },
     "execution_count": 50,
     "metadata": {},
     "output_type": "execute_result"
    }
   ],
   "source": [
    "table = results.groupby(['Model', 'Risk', 'Metric']).apply(lambda x: pd.Series([\"{:.3f} ({:.2f})\".format(mean, std) for mean, std in zip(x.mean(), x.std())], index = x.columns.astype(float)))\n",
    "table = table.loc[table.index.get_level_values(2).isin([\"C-Comp\", 'CIS', 'BRS'])].unstack(level=-1).stack(level=0).unstack(level=-1).loc[:, [\"C-Comp\", 'CIS', 'BRS']]\n",
    "if not size:\n",
    "        table = table.loc[[i for i in ['NSC', 'DCM', 'DSM', 'DeepHit', 'DeepSurv', 'NSC 1 vs Rest', 'DCM 1 vs Rest', 'DSM 1 vs Rest', 'DeepHit 1 vs Rest', 'DeepSurv 1 vs Rest', 'Fine Gray', 'CoxPH', 'CoxPH CS'] if i in table.index]]\n",
    "\n",
    "if len(table.index.get_level_values(1).unique()) == 1:\n",
    "    table = table.droplevel(1)\n",
    "else:\n",
    "    table = table.reorder_levels(['Risk', 'Model']).sort_index(level = 0, sort_remaining = False)\n",
    "\n",
    "table"
   ]
  },
  {
   "cell_type": "code",
   "execution_count": 46,
   "metadata": {},
   "outputs": [
    {
     "data": {
      "text/html": [
       "<div>\n",
       "<style scoped>\n",
       "    .dataframe tbody tr th:only-of-type {\n",
       "        vertical-align: middle;\n",
       "    }\n",
       "\n",
       "    .dataframe tbody tr th {\n",
       "        vertical-align: top;\n",
       "    }\n",
       "\n",
       "    .dataframe thead tr th {\n",
       "        text-align: left;\n",
       "    }\n",
       "\n",
       "    .dataframe thead tr:last-of-type th {\n",
       "        text-align: right;\n",
       "    }\n",
       "</style>\n",
       "<table border=\"1\" class=\"dataframe\">\n",
       "  <thead>\n",
       "    <tr>\n",
       "      <th></th>\n",
       "      <th>Metric</th>\n",
       "      <th colspan=\"3\" halign=\"left\">C-Comp</th>\n",
       "      <th colspan=\"3\" halign=\"left\">CIS</th>\n",
       "      <th colspan=\"3\" halign=\"left\">BRS</th>\n",
       "    </tr>\n",
       "    <tr>\n",
       "      <th></th>\n",
       "      <th></th>\n",
       "      <th>2153.75</th>\n",
       "      <th>4589.50</th>\n",
       "      <th>6620.75</th>\n",
       "      <th>2153.75</th>\n",
       "      <th>4589.50</th>\n",
       "      <th>6620.75</th>\n",
       "      <th>2153.75</th>\n",
       "      <th>4589.50</th>\n",
       "      <th>6620.75</th>\n",
       "    </tr>\n",
       "    <tr>\n",
       "      <th>Risk</th>\n",
       "      <th>Model</th>\n",
       "      <th></th>\n",
       "      <th></th>\n",
       "      <th></th>\n",
       "      <th></th>\n",
       "      <th></th>\n",
       "      <th></th>\n",
       "      <th></th>\n",
       "      <th></th>\n",
       "      <th></th>\n",
       "    </tr>\n",
       "  </thead>\n",
       "  <tbody>\n",
       "    <tr>\n",
       "      <th rowspan=\"8\" valign=\"top\">1</th>\n",
       "      <th>NSC</th>\n",
       "      <td>0.846 (0.03)</td>\n",
       "      <td>0.771 (0.02)</td>\n",
       "      <td>0.720 (0.01)</td>\n",
       "      <td>0.857 (0.03)</td>\n",
       "      <td>0.799 (0.03)</td>\n",
       "      <td>0.753 (0.03)</td>\n",
       "      <td>0.062 (0.00)</td>\n",
       "      <td>0.109 (0.01)</td>\n",
       "      <td>0.144 (0.01)</td>\n",
       "    </tr>\n",
       "    <tr>\n",
       "      <th>NSC 1 vs Rest</th>\n",
       "      <td>0.857 (0.03)</td>\n",
       "      <td>0.776 (0.02)</td>\n",
       "      <td>0.733 (0.01)</td>\n",
       "      <td>0.867 (0.03)</td>\n",
       "      <td>0.801 (0.02)</td>\n",
       "      <td>0.775 (0.01)</td>\n",
       "      <td>0.053 (0.00)</td>\n",
       "      <td>0.099 (0.01)</td>\n",
       "      <td>0.131 (0.01)</td>\n",
       "    </tr>\n",
       "    <tr>\n",
       "      <th>DCM 1 vs Rest</th>\n",
       "      <td>0.822 (0.09)</td>\n",
       "      <td>0.746 (0.08)</td>\n",
       "      <td>0.702 (0.06)</td>\n",
       "      <td>0.826 (0.09)</td>\n",
       "      <td>0.767 (0.09)</td>\n",
       "      <td>0.742 (0.08)</td>\n",
       "      <td>0.069 (0.01)</td>\n",
       "      <td>0.112 (0.01)</td>\n",
       "      <td>0.145 (0.01)</td>\n",
       "    </tr>\n",
       "    <tr>\n",
       "      <th>DSM 1 vs Rest</th>\n",
       "      <td>0.852 (0.02)</td>\n",
       "      <td>0.774 (0.02)</td>\n",
       "      <td>0.727 (0.01)</td>\n",
       "      <td>0.865 (0.03)</td>\n",
       "      <td>0.803 (0.03)</td>\n",
       "      <td>0.775 (0.02)</td>\n",
       "      <td>0.057 (0.01)</td>\n",
       "      <td>0.103 (0.01)</td>\n",
       "      <td>0.139 (0.01)</td>\n",
       "    </tr>\n",
       "    <tr>\n",
       "      <th>DeepHit 1 vs Rest</th>\n",
       "      <td>0.848 (0.02)</td>\n",
       "      <td>0.756 (0.02)</td>\n",
       "      <td>0.705 (0.02)</td>\n",
       "      <td>0.856 (0.02)</td>\n",
       "      <td>0.777 (0.03)</td>\n",
       "      <td>0.736 (0.02)</td>\n",
       "      <td>0.051 (0.00)</td>\n",
       "      <td>0.101 (0.01)</td>\n",
       "      <td>0.141 (0.01)</td>\n",
       "    </tr>\n",
       "    <tr>\n",
       "      <th>DeepSurv 1 vs Rest</th>\n",
       "      <td>0.861 (0.03)</td>\n",
       "      <td>0.784 (0.02)</td>\n",
       "      <td>0.733 (0.01)</td>\n",
       "      <td>0.868 (0.03)</td>\n",
       "      <td>0.810 (0.02)</td>\n",
       "      <td>0.780 (0.01)</td>\n",
       "      <td>0.050 (0.01)</td>\n",
       "      <td>0.093 (0.01)</td>\n",
       "      <td>0.127 (0.01)</td>\n",
       "    </tr>\n",
       "    <tr>\n",
       "      <th>Fine Gray</th>\n",
       "      <td>0.860 (0.02)</td>\n",
       "      <td>0.783 (0.02)</td>\n",
       "      <td>0.736 (0.01)</td>\n",
       "      <td>0.865 (0.02)</td>\n",
       "      <td>0.806 (0.02)</td>\n",
       "      <td>0.780 (0.01)</td>\n",
       "      <td>0.052 (0.01)</td>\n",
       "      <td>0.095 (0.01)</td>\n",
       "      <td>0.128 (0.01)</td>\n",
       "    </tr>\n",
       "    <tr>\n",
       "      <th>CoxPH CS</th>\n",
       "      <td>0.859 (0.03)</td>\n",
       "      <td>0.781 (0.02)</td>\n",
       "      <td>0.731 (0.01)</td>\n",
       "      <td>0.869 (0.03)</td>\n",
       "      <td>0.809 (0.02)</td>\n",
       "      <td>0.779 (0.01)</td>\n",
       "      <td>0.060 (0.01)</td>\n",
       "      <td>0.102 (0.01)</td>\n",
       "      <td>0.136 (0.01)</td>\n",
       "    </tr>\n",
       "    <tr>\n",
       "      <th rowspan=\"8\" valign=\"top\">2</th>\n",
       "      <th>NSC</th>\n",
       "      <td>0.707 (0.06)</td>\n",
       "      <td>0.667 (0.02)</td>\n",
       "      <td>0.654 (0.02)</td>\n",
       "      <td>0.720 (0.07)</td>\n",
       "      <td>0.695 (0.03)</td>\n",
       "      <td>0.703 (0.02)</td>\n",
       "      <td>0.027 (0.00)</td>\n",
       "      <td>0.073 (0.01)</td>\n",
       "      <td>0.116 (0.01)</td>\n",
       "    </tr>\n",
       "    <tr>\n",
       "      <th>NSC 1 vs Rest</th>\n",
       "      <td>0.734 (0.06)</td>\n",
       "      <td>0.696 (0.02)</td>\n",
       "      <td>0.683 (0.02)</td>\n",
       "      <td>0.739 (0.07)</td>\n",
       "      <td>0.716 (0.02)</td>\n",
       "      <td>0.724 (0.02)</td>\n",
       "      <td>0.027 (0.00)</td>\n",
       "      <td>0.071 (0.01)</td>\n",
       "      <td>0.111 (0.01)</td>\n",
       "    </tr>\n",
       "    <tr>\n",
       "      <th>DCM 1 vs Rest</th>\n",
       "      <td>0.715 (0.05)</td>\n",
       "      <td>0.679 (0.01)</td>\n",
       "      <td>0.667 (0.02)</td>\n",
       "      <td>0.716 (0.06)</td>\n",
       "      <td>0.696 (0.02)</td>\n",
       "      <td>0.705 (0.02)</td>\n",
       "      <td>0.027 (0.00)</td>\n",
       "      <td>0.072 (0.01)</td>\n",
       "      <td>0.114 (0.01)</td>\n",
       "    </tr>\n",
       "    <tr>\n",
       "      <th>DSM 1 vs Rest</th>\n",
       "      <td>0.726 (0.07)</td>\n",
       "      <td>0.690 (0.02)</td>\n",
       "      <td>0.674 (0.01)</td>\n",
       "      <td>0.728 (0.08)</td>\n",
       "      <td>0.712 (0.02)</td>\n",
       "      <td>0.717 (0.02)</td>\n",
       "      <td>0.027 (0.00)</td>\n",
       "      <td>0.071 (0.01)</td>\n",
       "      <td>0.113 (0.01)</td>\n",
       "    </tr>\n",
       "    <tr>\n",
       "      <th>DeepHit 1 vs Rest</th>\n",
       "      <td>0.696 (0.05)</td>\n",
       "      <td>0.673 (0.02)</td>\n",
       "      <td>0.651 (0.01)</td>\n",
       "      <td>0.700 (0.06)</td>\n",
       "      <td>0.687 (0.03)</td>\n",
       "      <td>0.683 (0.02)</td>\n",
       "      <td>0.027 (0.00)</td>\n",
       "      <td>0.072 (0.01)</td>\n",
       "      <td>0.116 (0.01)</td>\n",
       "    </tr>\n",
       "    <tr>\n",
       "      <th>DeepSurv 1 vs Rest</th>\n",
       "      <td>0.734 (0.06)</td>\n",
       "      <td>0.690 (0.02)</td>\n",
       "      <td>0.677 (0.02)</td>\n",
       "      <td>0.735 (0.07)</td>\n",
       "      <td>0.708 (0.02)</td>\n",
       "      <td>0.715 (0.02)</td>\n",
       "      <td>0.026 (0.00)</td>\n",
       "      <td>0.070 (0.01)</td>\n",
       "      <td>0.109 (0.01)</td>\n",
       "    </tr>\n",
       "    <tr>\n",
       "      <th>Fine Gray</th>\n",
       "      <td>0.742 (0.07)</td>\n",
       "      <td>0.716 (0.02)</td>\n",
       "      <td>0.699 (0.02)</td>\n",
       "      <td>0.717 (0.08)</td>\n",
       "      <td>0.708 (0.02)</td>\n",
       "      <td>0.711 (0.02)</td>\n",
       "      <td>0.027 (0.00)</td>\n",
       "      <td>0.071 (0.01)</td>\n",
       "      <td>0.112 (0.01)</td>\n",
       "    </tr>\n",
       "    <tr>\n",
       "      <th>CoxPH CS</th>\n",
       "      <td>0.734 (0.05)</td>\n",
       "      <td>0.696 (0.02)</td>\n",
       "      <td>0.679 (0.02)</td>\n",
       "      <td>0.737 (0.06)</td>\n",
       "      <td>0.717 (0.02)</td>\n",
       "      <td>0.721 (0.02)</td>\n",
       "      <td>0.026 (0.00)</td>\n",
       "      <td>0.069 (0.01)</td>\n",
       "      <td>0.108 (0.01)</td>\n",
       "    </tr>\n",
       "  </tbody>\n",
       "</table>\n",
       "</div>"
      ],
      "text/plain": [
       "Metric                         C-Comp                              \\\n",
       "                              2153.75       4589.50       6620.75   \n",
       "Risk Model                                                          \n",
       "1    NSC                 0.846 (0.03)  0.771 (0.02)  0.720 (0.01)   \n",
       "     NSC 1 vs Rest       0.857 (0.03)  0.776 (0.02)  0.733 (0.01)   \n",
       "     DCM 1 vs Rest       0.822 (0.09)  0.746 (0.08)  0.702 (0.06)   \n",
       "     DSM 1 vs Rest       0.852 (0.02)  0.774 (0.02)  0.727 (0.01)   \n",
       "     DeepHit 1 vs Rest   0.848 (0.02)  0.756 (0.02)  0.705 (0.02)   \n",
       "     DeepSurv 1 vs Rest  0.861 (0.03)  0.784 (0.02)  0.733 (0.01)   \n",
       "     Fine Gray           0.860 (0.02)  0.783 (0.02)  0.736 (0.01)   \n",
       "     CoxPH CS            0.859 (0.03)  0.781 (0.02)  0.731 (0.01)   \n",
       "2    NSC                 0.707 (0.06)  0.667 (0.02)  0.654 (0.02)   \n",
       "     NSC 1 vs Rest       0.734 (0.06)  0.696 (0.02)  0.683 (0.02)   \n",
       "     DCM 1 vs Rest       0.715 (0.05)  0.679 (0.01)  0.667 (0.02)   \n",
       "     DSM 1 vs Rest       0.726 (0.07)  0.690 (0.02)  0.674 (0.01)   \n",
       "     DeepHit 1 vs Rest   0.696 (0.05)  0.673 (0.02)  0.651 (0.01)   \n",
       "     DeepSurv 1 vs Rest  0.734 (0.06)  0.690 (0.02)  0.677 (0.02)   \n",
       "     Fine Gray           0.742 (0.07)  0.716 (0.02)  0.699 (0.02)   \n",
       "     CoxPH CS            0.734 (0.05)  0.696 (0.02)  0.679 (0.02)   \n",
       "\n",
       "Metric                            CIS                              \\\n",
       "                              2153.75       4589.50       6620.75   \n",
       "Risk Model                                                          \n",
       "1    NSC                 0.857 (0.03)  0.799 (0.03)  0.753 (0.03)   \n",
       "     NSC 1 vs Rest       0.867 (0.03)  0.801 (0.02)  0.775 (0.01)   \n",
       "     DCM 1 vs Rest       0.826 (0.09)  0.767 (0.09)  0.742 (0.08)   \n",
       "     DSM 1 vs Rest       0.865 (0.03)  0.803 (0.03)  0.775 (0.02)   \n",
       "     DeepHit 1 vs Rest   0.856 (0.02)  0.777 (0.03)  0.736 (0.02)   \n",
       "     DeepSurv 1 vs Rest  0.868 (0.03)  0.810 (0.02)  0.780 (0.01)   \n",
       "     Fine Gray           0.865 (0.02)  0.806 (0.02)  0.780 (0.01)   \n",
       "     CoxPH CS            0.869 (0.03)  0.809 (0.02)  0.779 (0.01)   \n",
       "2    NSC                 0.720 (0.07)  0.695 (0.03)  0.703 (0.02)   \n",
       "     NSC 1 vs Rest       0.739 (0.07)  0.716 (0.02)  0.724 (0.02)   \n",
       "     DCM 1 vs Rest       0.716 (0.06)  0.696 (0.02)  0.705 (0.02)   \n",
       "     DSM 1 vs Rest       0.728 (0.08)  0.712 (0.02)  0.717 (0.02)   \n",
       "     DeepHit 1 vs Rest   0.700 (0.06)  0.687 (0.03)  0.683 (0.02)   \n",
       "     DeepSurv 1 vs Rest  0.735 (0.07)  0.708 (0.02)  0.715 (0.02)   \n",
       "     Fine Gray           0.717 (0.08)  0.708 (0.02)  0.711 (0.02)   \n",
       "     CoxPH CS            0.737 (0.06)  0.717 (0.02)  0.721 (0.02)   \n",
       "\n",
       "Metric                            BRS                              \n",
       "                              2153.75       4589.50       6620.75  \n",
       "Risk Model                                                         \n",
       "1    NSC                 0.062 (0.00)  0.109 (0.01)  0.144 (0.01)  \n",
       "     NSC 1 vs Rest       0.053 (0.00)  0.099 (0.01)  0.131 (0.01)  \n",
       "     DCM 1 vs Rest       0.069 (0.01)  0.112 (0.01)  0.145 (0.01)  \n",
       "     DSM 1 vs Rest       0.057 (0.01)  0.103 (0.01)  0.139 (0.01)  \n",
       "     DeepHit 1 vs Rest   0.051 (0.00)  0.101 (0.01)  0.141 (0.01)  \n",
       "     DeepSurv 1 vs Rest  0.050 (0.01)  0.093 (0.01)  0.127 (0.01)  \n",
       "     Fine Gray           0.052 (0.01)  0.095 (0.01)  0.128 (0.01)  \n",
       "     CoxPH CS            0.060 (0.01)  0.102 (0.01)  0.136 (0.01)  \n",
       "2    NSC                 0.027 (0.00)  0.073 (0.01)  0.116 (0.01)  \n",
       "     NSC 1 vs Rest       0.027 (0.00)  0.071 (0.01)  0.111 (0.01)  \n",
       "     DCM 1 vs Rest       0.027 (0.00)  0.072 (0.01)  0.114 (0.01)  \n",
       "     DSM 1 vs Rest       0.027 (0.00)  0.071 (0.01)  0.113 (0.01)  \n",
       "     DeepHit 1 vs Rest   0.027 (0.00)  0.072 (0.01)  0.116 (0.01)  \n",
       "     DeepSurv 1 vs Rest  0.026 (0.00)  0.070 (0.01)  0.109 (0.01)  \n",
       "     Fine Gray           0.027 (0.00)  0.071 (0.01)  0.112 (0.01)  \n",
       "     CoxPH CS            0.026 (0.00)  0.069 (0.01)  0.108 (0.01)  "
      ]
     },
     "execution_count": 46,
     "metadata": {},
     "output_type": "execute_result"
    }
   ],
   "source": [
    "table = results.groupby(['Model', 'Risk', 'Metric']).apply(lambda x: pd.Series([\"{:.3f} ({:.2f})\".format(mean, std) for mean, std in zip(x.mean(), x.std())], index = x.columns.astype(float)))\n",
    "table = table.loc[table.index.get_level_values(2).isin([\"C-Comp\", 'CIS', 'BRS'])].unstack(level=-1).stack(level=0).unstack(level=-1).loc[:, [\"C-Comp\", 'CIS', 'BRS']]\n",
    "if not size:\n",
    "        table = table.loc[[i for i in ['NSC', 'DCM', 'DSM', 'DeepHit', 'DeepSurv', 'NSC 1 vs Rest', 'DCM 1 vs Rest', 'DSM 1 vs Rest', 'DeepHit 1 vs Rest', 'DeepSurv 1 vs Rest', 'Fine Gray', 'CoxPH', 'CoxPH CS'] if i in table.index]]\n",
    "\n",
    "if len(table.index.get_level_values(1).unique()) == 1:\n",
    "    table = table.droplevel(1)\n",
    "else:\n",
    "    table = table.reorder_levels(['Risk', 'Model']).sort_index(level = 0, sort_remaining = False)\n",
    "\n",
    "table"
   ]
  },
  {
   "cell_type": "code",
   "execution_count": null,
   "metadata": {},
   "outputs": [
    {
     "name": "stdout",
     "output_type": "stream",
     "text": [
      "\\begin{tabular}{lllllllllll}\n",
      "\\toprule\n",
      "  & Metric & \\multicolumn{3}{l}{C-Comp} & \\multicolumn{3}{l}{CIS} & \\multicolumn{3}{l}{BRS} \\\\\n",
      "  & {} &       2153.75 &       4589.50 &       6620.75 &       2153.75 &       4589.50 &       6620.75 &       2153.75 &       4589.50 &       6620.75 \\\\\n",
      "Risk & Model &               &               &               &               &               &               &               &               &               \\\\\n",
      "\\midrule\n",
      "1 & NSC &  0.000 (0.00) &  0.000 (0.00) &  0.000 (0.00) &  0.857 (0.03) &  0.799 (0.03) &  0.753 (0.03) &  0.062 (0.00) &  0.109 (0.01) &  0.144 (0.01) \\\\\n",
      "  & NSC CS &  0.000 (0.00) &  0.000 (0.00) &  0.000 (0.00) &  0.867 (0.03) &  0.801 (0.02) &  0.775 (0.01) &  0.053 (0.00) &  0.099 (0.01) &  0.131 (0.01) \\\\\n",
      "  & DCM &  0.000 (0.00) &  0.000 (0.00) &  0.000 (0.00) &  0.826 (0.09) &  0.767 (0.09) &  0.742 (0.08) &  0.069 (0.01) &  0.112 (0.01) &  0.145 (0.01) \\\\\n",
      "  & DSM &  0.000 (0.00) &  0.000 (0.00) &  0.000 (0.00) &  0.865 (0.03) &  0.803 (0.03) &  0.775 (0.02) &  0.057 (0.01) &  0.103 (0.01) &  0.139 (0.01) \\\\\n",
      "  & DeepHit &  0.000 (0.00) &  0.000 (0.00) &  0.000 (0.00) &  0.856 (0.02) &  0.777 (0.03) &  0.736 (0.02) &  0.051 (0.00) &  0.101 (0.01) &  0.141 (0.01) \\\\\n",
      "  & DeepSurv &  0.000 (0.00) &  0.000 (0.00) &  0.000 (0.00) &  0.868 (0.03) &  0.810 (0.02) &  0.780 (0.01) &  0.050 (0.01) &  0.093 (0.01) &  0.127 (0.01) \\\\\n",
      "  & Fine Gray &  0.000 (0.00) &  0.000 (0.00) &  0.000 (0.00) &  0.865 (0.02) &  0.806 (0.02) &  0.780 (0.01) &  0.052 (0.01) &  0.095 (0.01) &  0.128 (0.01) \\\\\n",
      "  & CoxPH &  0.000 (0.00) &  0.000 (0.00) &  0.000 (0.00) &  0.869 (0.03) &  0.809 (0.02) &  0.779 (0.01) &  0.060 (0.01) &  0.102 (0.01) &  0.136 (0.01) \\\\\n",
      "2 & NSC &  0.000 (0.00) &  0.000 (0.00) &  0.000 (0.00) &  0.720 (0.07) &  0.695 (0.03) &  0.703 (0.02) &  0.027 (0.00) &  0.073 (0.01) &  0.116 (0.01) \\\\\n",
      "  & NSC CS &  0.000 (0.00) &  0.000 (0.00) &  0.000 (0.00) &  0.739 (0.07) &  0.716 (0.02) &  0.724 (0.02) &  0.027 (0.00) &  0.071 (0.01) &  0.111 (0.01) \\\\\n",
      "  & DCM &  0.000 (0.00) &  0.000 (0.00) &  0.000 (0.00) &  0.716 (0.06) &  0.696 (0.02) &  0.705 (0.02) &  0.027 (0.00) &  0.072 (0.01) &  0.114 (0.01) \\\\\n",
      "  & DSM &  0.000 (0.00) &  0.000 (0.00) &  0.000 (0.00) &  0.728 (0.08) &  0.712 (0.02) &  0.717 (0.02) &  0.027 (0.00) &  0.071 (0.01) &  0.113 (0.01) \\\\\n",
      "  & DeepHit &  0.000 (0.00) &  0.000 (0.00) &  0.000 (0.00) &  0.700 (0.06) &  0.687 (0.03) &  0.683 (0.02) &  0.027 (0.00) &  0.072 (0.01) &  0.116 (0.01) \\\\\n",
      "  & DeepSurv &  0.000 (0.00) &  0.000 (0.00) &  0.000 (0.00) &  0.735 (0.07) &  0.708 (0.02) &  0.715 (0.02) &  0.026 (0.00) &  0.070 (0.01) &  0.109 (0.01) \\\\\n",
      "  & Fine Gray &  0.000 (0.00) &  0.000 (0.00) &  0.000 (0.00) &  0.717 (0.08) &  0.708 (0.02) &  0.711 (0.02) &  0.027 (0.00) &  0.071 (0.01) &  0.112 (0.01) \\\\\n",
      "  & CoxPH &  0.000 (0.00) &  0.000 (0.00) &  0.000 (0.00) &  0.737 (0.06) &  0.717 (0.02) &  0.721 (0.02) &  0.026 (0.00) &  0.069 (0.01) &  0.108 (0.01) \\\\\n",
      "\\bottomrule\n",
      "\\end{tabular}\n",
      "\n"
     ]
    }
   ],
   "source": [
    "print(table.to_latex())"
   ]
  },
  {
   "cell_type": "markdown",
   "metadata": {},
   "source": [
    "---------"
   ]
  },
  {
   "cell_type": "markdown",
   "metadata": {},
   "source": [
    "# Analysis cluster"
   ]
  },
  {
   "cell_type": "code",
   "execution_count": 30,
   "metadata": {},
   "outputs": [],
   "source": [
    "method_display = 'nsc'"
   ]
  },
  {
   "cell_type": "code",
   "execution_count": 31,
   "metadata": {},
   "outputs": [
    {
     "name": "stdout",
     "output_type": "stream",
     "text": [
      "0\n"
     ]
    },
    {
     "data": {
      "image/png": "[encoded data removed]",
      "text/plain": [
       "<Figure size 432x288 with 1 Axes>"
      ]
     },
     "metadata": {
      "needs_background": "light"
     },
     "output_type": "display_data"
    },
    {
     "data": {
      "image/png": "[encoded data removed]",
      "text/plain": [
       "<Figure size 432x288 with 1 Axes>"
      ]
     },
     "metadata": {
      "needs_background": "light"
     },
     "output_type": "display_data"
    },
    {
     "name": "stdout",
     "output_type": "stream",
     "text": [
      "1\n"
     ]
    },
    {
     "data": {
      "image/png": "[encoded data removed]",
      "text/plain": [
       "<Figure size 432x288 with 1 Axes>"
      ]
     },
     "metadata": {
      "needs_background": "light"
     },
     "output_type": "display_data"
    },
    {
     "data": {
      "image/png": "[encoded data removed]",
      "text/plain": [
       "<Figure size 432x288 with 1 Axes>"
      ]
     },
     "metadata": {
      "needs_background": "light"
     },
     "output_type": "display_data"
    },
    {
     "name": "stdout",
     "output_type": "stream",
     "text": [
      "2\n"
     ]
    },
    {
     "data": {
      "image/png": "[encoded data removed]",
      "text/plain": [
       "<Figure size 432x288 with 1 Axes>"
      ]
     },
     "metadata": {
      "needs_background": "light"
     },
     "output_type": "display_data"
    },
    {
     "data": {
      "image/png": "[encoded data removed]",
      "text/plain": [
       "<Figure size 432x288 with 1 Axes>"
      ]
     },
     "metadata": {
      "needs_background": "light"
     },
     "output_type": "display_data"
    },
    {
     "name": "stdout",
     "output_type": "stream",
     "text": [
      "3\n"
     ]
    },
    {
     "data": {
      "image/png": "[encoded data removed]",
      "text/plain": [
       "<Figure size 432x288 with 1 Axes>"
      ]
     },
     "metadata": {
      "needs_background": "light"
     },
     "output_type": "display_data"
    },
    {
     "data": {
      "image/png": "[encoded data removed]",
      "text/plain": [
       "<Figure size 432x288 with 1 Axes>"
      ]
     },
     "metadata": {
      "needs_background": "light"
     },
     "output_type": "display_data"
    },
    {
     "name": "stdout",
     "output_type": "stream",
     "text": [
      "4\n"
     ]
    },
    {
     "data": {
      "image/png": "[encoded data removed]",
      "text/plain": [
       "<Figure size 432x288 with 1 Axes>"
      ]
     },
     "metadata": {
      "needs_background": "light"
     },
     "output_type": "display_data"
    },
    {
     "data": {
      "image/png": "[encoded data removed]",
      "text/plain": [
       "<Figure size 432x288 with 1 Axes>"
      ]
     },
     "metadata": {
      "needs_background": "light"
     },
     "output_type": "display_data"
    }
   ],
   "source": [
    "for i in np.arange(5):\n",
    "    print(i)\n",
    "    if 'predictions' not in clusters[method_display][i]:\n",
    "        horizons_pred = np.linspace(0, 0.75, clusters[method_display][i][1]['predictions'].shape[0])\n",
    "        for risk in clusters[method_display][i]:\n",
    "            pd.DataFrame(clusters[method_display][i][risk]['predictions'], index = np.quantile(t[e!= 0], horizons_pred)).plot()\n",
    "            plt.xlabel('Time')\n",
    "            plt.ylabel('Survival Predictions')\n",
    "            plt.grid(alpha = 0.3)\n",
    "            plt.legend(title = 'Clusters - Risk {}'.format(risk))\n",
    "            plt.show()\n",
    "    else:\n",
    "        horizons_pred = np.linspace(0, 0.75, clusters[method_display][i]['predictions'].shape[0])\n",
    "        pd.DataFrame(clusters[method_display][i]['predictions'], index = np.quantile(t[e==1], horizons_pred)).plot()\n",
    "        plt.xlabel('Time')\n",
    "        plt.ylabel('Survival Predictions')\n",
    "        plt.grid(alpha = 0.3)\n",
    "        plt.legend(title = 'Clusters')\n",
    "        plt.show()"
   ]
  },
  {
   "cell_type": "code",
   "execution_count": 11,
   "metadata": {},
   "outputs": [],
   "source": [
    "models = [method_display]\n"
   ]
  },
  {
   "cell_type": "code",
   "execution_count": 12,
   "metadata": {},
   "outputs": [
    {
     "ename": "KeyError",
     "evalue": "'predictions'",
     "output_type": "error",
     "traceback": [
      "\u001b[0;31m---------------------------------------------------------------------------\u001b[0m",
      "\u001b[0;31mKeyError\u001b[0m                                  Traceback (most recent call last)",
      "\u001b[0;32m/tmp/ipykernel_6271/3605305849.py\u001b[0m in \u001b[0;36m<module>\u001b[0;34m\u001b[0m\n\u001b[1;32m     10\u001b[0m     \u001b[0mordered_cluster\u001b[0m \u001b[0;34m=\u001b[0m \u001b[0;34m[\u001b[0m\u001b[0;34m]\u001b[0m\u001b[0;34m\u001b[0m\u001b[0;34m\u001b[0m\u001b[0m\n\u001b[1;32m     11\u001b[0m     \u001b[0;32mfor\u001b[0m \u001b[0mj\u001b[0m \u001b[0;32min\u001b[0m \u001b[0mclusters\u001b[0m\u001b[0;34m[\u001b[0m\u001b[0mmethod\u001b[0m\u001b[0;34m]\u001b[0m\u001b[0;34m:\u001b[0m\u001b[0;34m\u001b[0m\u001b[0;34m\u001b[0m\u001b[0m\n\u001b[0;32m---> 12\u001b[0;31m         \u001b[0morder\u001b[0m \u001b[0;34m=\u001b[0m \u001b[0mnp\u001b[0m\u001b[0;34m.\u001b[0m\u001b[0margsort\u001b[0m\u001b[0;34m(\u001b[0m\u001b[0mclusters\u001b[0m\u001b[0;34m[\u001b[0m\u001b[0mmethod\u001b[0m\u001b[0;34m]\u001b[0m\u001b[0;34m[\u001b[0m\u001b[0mj\u001b[0m\u001b[0;34m]\u001b[0m\u001b[0;34m[\u001b[0m\u001b[0;34m'predictions'\u001b[0m\u001b[0;34m]\u001b[0m\u001b[0;34m[\u001b[0m\u001b[0;34m-\u001b[0m\u001b[0;36m1\u001b[0m\u001b[0;34m]\u001b[0m\u001b[0;34m)\u001b[0m\u001b[0;34m\u001b[0m\u001b[0;34m\u001b[0m\u001b[0m\n\u001b[0m\u001b[1;32m     13\u001b[0m         \u001b[0mordered_cluster\u001b[0m\u001b[0;34m.\u001b[0m\u001b[0mappend\u001b[0m\u001b[0;34m(\u001b[0m\u001b[0mclusters\u001b[0m\u001b[0;34m[\u001b[0m\u001b[0mmethod\u001b[0m\u001b[0;34m]\u001b[0m\u001b[0;34m[\u001b[0m\u001b[0mj\u001b[0m\u001b[0;34m]\u001b[0m\u001b[0;34m[\u001b[0m\u001b[0;34m'predictions'\u001b[0m\u001b[0;34m]\u001b[0m\u001b[0;34m[\u001b[0m\u001b[0;34m:\u001b[0m\u001b[0;34m,\u001b[0m \u001b[0morder\u001b[0m\u001b[0;34m]\u001b[0m\u001b[0;34m)\u001b[0m\u001b[0;34m\u001b[0m\u001b[0;34m\u001b[0m\u001b[0m\n\u001b[1;32m     14\u001b[0m     \u001b[0mmean\u001b[0m \u001b[0;34m=\u001b[0m \u001b[0mpd\u001b[0m\u001b[0;34m.\u001b[0m\u001b[0mDataFrame\u001b[0m\u001b[0;34m(\u001b[0m\u001b[0mnp\u001b[0m\u001b[0;34m.\u001b[0m\u001b[0mmean\u001b[0m\u001b[0;34m(\u001b[0m\u001b[0mordered_cluster\u001b[0m\u001b[0;34m,\u001b[0m \u001b[0;36m0\u001b[0m\u001b[0;34m)\u001b[0m\u001b[0;34m,\u001b[0m \u001b[0mindex\u001b[0m \u001b[0;34m=\u001b[0m \u001b[0mnp\u001b[0m\u001b[0;34m.\u001b[0m\u001b[0mquantile\u001b[0m\u001b[0;34m(\u001b[0m\u001b[0mt\u001b[0m\u001b[0;34m[\u001b[0m\u001b[0me\u001b[0m\u001b[0;34m==\u001b[0m\u001b[0;36m1\u001b[0m\u001b[0;34m]\u001b[0m\u001b[0;34m,\u001b[0m \u001b[0mhorizons_pred\u001b[0m\u001b[0;34m)\u001b[0m\u001b[0;34m)\u001b[0m\u001b[0;34m\u001b[0m\u001b[0;34m\u001b[0m\u001b[0m\n",
      "\u001b[0;31mKeyError\u001b[0m: 'predictions'"
     ]
    },
    {
     "data": {
      "image/png": "[encoded data removed]",
      "text/plain": [
       "<Figure size 432x288 with 1 Axes>"
      ]
     },
     "metadata": {
      "needs_background": "light"
     },
     "output_type": "display_data"
    }
   ],
   "source": [
    "horizons_pred = np.linspace(0, 0.75, 10)\n",
    "fig, ax = plt.subplots(nrows = 1, ncols = len(models), figsize = (len(models) * 6, 4), sharey = True)\n",
    "if len(models) == 1:\n",
    "    ax = [ax]\n",
    "fig.supylabel('Survival Predictions')\n",
    "fig.supxlabel('Time')\n",
    "\n",
    "# Baseline\n",
    "for i, method in enumerate(models):\n",
    "    ordered_cluster = []\n",
    "    for j in clusters[method]:\n",
    "        order = np.argsort(clusters[method][j]['predictions'][-1])\n",
    "        ordered_cluster.append(clusters[method][j]['predictions'][:, order])\n",
    "    mean = pd.DataFrame(np.mean(ordered_cluster, 0), index = np.quantile(t[e==1], horizons_pred))\n",
    "    std = 1.96 * pd.DataFrame(np.std(ordered_cluster, 0), index = np.quantile(t[e==1], horizons_pred)) / np.sqrt(len(mean.columns))\n",
    "    mean.plot(ax = ax[i], legend = False)\n",
    "    for k in mean.columns:\n",
    "        ax[i].fill_between(mean.index, mean[k] + std[k], mean[k] - std[k], alpha = 0.5)\n",
    "\n",
    "    ax[i].grid(alpha = 0.3)\n",
    "    ax[i].legend(title = 'Clusters', loc='center left', bbox_to_anchor=(1, 0.5))\n",
    "plt.tight_layout()\n",
    "plt.ylim(-0.05, 1.05)"
   ]
  },
  {
   "cell_type": "code",
   "execution_count": null,
   "metadata": {},
   "outputs": [],
   "source": [
    "from lifelines import KaplanMeierFitter\n",
    "from lifelines.statistics import multivariate_logrank_test"
   ]
  },
  {
   "cell_type": "code",
   "execution_count": null,
   "metadata": {},
   "outputs": [
    {
     "name": "stdout",
     "output_type": "stream",
     "text": [
      "<lifelines.StatisticalResult: multivariate_logrank_test>\n",
      "               t_0 = -1\n",
      " null_distribution = chi squared\n",
      "degrees_of_freedom = 2\n",
      "         test_name = multivariate_logrank_test\n",
      "\n",
      "---\n",
      " test_statistic      p  -log2(p)\n",
      "          37.14 <0.005     26.79\n",
      "<lifelines.StatisticalResult: multivariate_logrank_test>\n",
      "               t_0 = -1\n",
      " null_distribution = chi squared\n",
      "degrees_of_freedom = 2\n",
      "         test_name = multivariate_logrank_test\n",
      "\n",
      "---\n",
      " test_statistic      p  -log2(p)\n",
      "          58.02 <0.005     41.85\n",
      "<lifelines.StatisticalResult: multivariate_logrank_test>\n",
      "               t_0 = -1\n",
      " null_distribution = chi squared\n",
      "degrees_of_freedom = 2\n",
      "         test_name = multivariate_logrank_test\n",
      "\n",
      "---\n",
      " test_statistic      p  -log2(p)\n",
      "          11.76 <0.005      8.49\n",
      "<lifelines.StatisticalResult: multivariate_logrank_test>\n",
      "               t_0 = -1\n",
      " null_distribution = chi squared\n",
      "degrees_of_freedom = 2\n",
      "         test_name = multivariate_logrank_test\n",
      "\n",
      "---\n",
      " test_statistic      p  -log2(p)\n",
      "          18.80 <0.005     13.56\n",
      "<lifelines.StatisticalResult: multivariate_logrank_test>\n",
      "               t_0 = -1\n",
      " null_distribution = chi squared\n",
      "degrees_of_freedom = 2\n",
      "         test_name = multivariate_logrank_test\n",
      "\n",
      "---\n",
      " test_statistic      p  -log2(p)\n",
      "          33.90 <0.005     24.46\n"
     ]
    },
    {
     "name": "stderr",
     "output_type": "stream",
     "text": [
      "/tmp/ipykernel_25672/2173491133.py:11: FutureWarning: In a future version of pandas all arguments of concat except for the argument 'objs' will be keyword-only\n",
      "  clusters_assignments = pd.concat(clusters_assignments, 0)\n",
      "/tmp/ipykernel_25672/2173491133.py:12: FutureWarning: In a future version of pandas all arguments of concat except for the argument 'objs' will be keyword-only\n",
      "  clusters_expectancy = pd.concat(clusters_expectancy, 1).replace([np.inf, -np.inf], np.nan)\n"
     ]
    }
   ],
   "source": [
    "# Compute average life expectancy for each cluster\n",
    "clusters_expectancy, clusters_assignments = [], []\n",
    "for fold in clusters[method_display]:\n",
    "    index = clusters[method_display][fold]['alphas_test'].index\n",
    "    order = np.argsort(clusters[method_display][fold]['predictions'][-1]) # Reorder cluster\n",
    "    clusters_assignment = np.argmax(clusters[method_display][fold]['alphas_test'].iloc[:, order].values, axis = 1)\n",
    "    clusters_assignment = pd.DataFrame({'Assignment': clusters_assignment, 'Event': e[index], 'Time': t[index]}, index = index)\n",
    "    clusters_assignments.append(clusters_assignment)\n",
    "    clusters_expectancy.append(clusters_assignment.groupby('Assignment').apply(lambda x: KaplanMeierFitter().fit(x['Time'], x['Event']).median_survival_time_))\n",
    "    print(multivariate_logrank_test(clusters_assignment['Time'], clusters_assignment['Assignment'], clusters_assignment['Event']))\n",
    "clusters_assignments = pd.concat(clusters_assignments, 0)\n",
    "clusters_expectancy = pd.concat(clusters_expectancy, 1).replace([np.inf, -np.inf], np.nan)"
   ]
  },
  {
   "cell_type": "code",
   "execution_count": null,
   "metadata": {},
   "outputs": [
    {
     "name": "stdout",
     "output_type": "stream",
     "text": [
      "Survival\n"
     ]
    },
    {
     "data": {
      "text/plain": [
       "(Assignment\n",
       " 0    102.220000\n",
       " 1    135.746666\n",
       " 2    237.816666\n",
       " dtype: float64,\n",
       " Assignment\n",
       " 0    31.506107\n",
       " 1    13.535111\n",
       " 2    35.538426\n",
       " dtype: float64)"
      ]
     },
     "execution_count": 14,
     "metadata": {},
     "output_type": "execute_result"
    }
   ],
   "source": [
    "print(\"Survival\")\n",
    "clusters_expectancy.mean(1), clusters_expectancy.std(1)"
   ]
  },
  {
   "cell_type": "code",
   "execution_count": null,
   "metadata": {},
   "outputs": [
    {
     "name": "stdout",
     "output_type": "stream",
     "text": [
      "Characteristics Clusters\n"
     ]
    },
    {
     "data": {
      "text/html": [
       "<div>\n",
       "<style scoped>\n",
       "    .dataframe tbody tr th:only-of-type {\n",
       "        vertical-align: middle;\n",
       "    }\n",
       "\n",
       "    .dataframe tbody tr th {\n",
       "        vertical-align: top;\n",
       "    }\n",
       "\n",
       "    .dataframe thead th {\n",
       "        text-align: right;\n",
       "    }\n",
       "</style>\n",
       "<table border=\"1\" class=\"dataframe\">\n",
       "  <thead>\n",
       "    <tr style=\"text-align: right;\">\n",
       "      <th></th>\n",
       "      <th>MKI67</th>\n",
       "      <th>EGFR</th>\n",
       "      <th>PGR</th>\n",
       "      <th>ERBB2</th>\n",
       "      <th>Hormone</th>\n",
       "      <th>Radiotherapy</th>\n",
       "      <th>Chemotherapy</th>\n",
       "      <th>ER-positive</th>\n",
       "      <th>Age at diagnosis</th>\n",
       "      <th>Event</th>\n",
       "      <th>Time</th>\n",
       "    </tr>\n",
       "    <tr>\n",
       "      <th>Assignment</th>\n",
       "      <th></th>\n",
       "      <th></th>\n",
       "      <th></th>\n",
       "      <th></th>\n",
       "      <th></th>\n",
       "      <th></th>\n",
       "      <th></th>\n",
       "      <th></th>\n",
       "      <th></th>\n",
       "      <th></th>\n",
       "      <th></th>\n",
       "    </tr>\n",
       "  </thead>\n",
       "  <tbody>\n",
       "    <tr>\n",
       "      <th>0</th>\n",
       "      <td>0.502682</td>\n",
       "      <td>-0.639135</td>\n",
       "      <td>0.692626</td>\n",
       "      <td>0.724874</td>\n",
       "      <td>-0.145088</td>\n",
       "      <td>0.150649</td>\n",
       "      <td>0.762719</td>\n",
       "      <td>-0.810429</td>\n",
       "      <td>0.008395</td>\n",
       "      <td>0.664474</td>\n",
       "      <td>104.358480</td>\n",
       "    </tr>\n",
       "    <tr>\n",
       "      <th>1</th>\n",
       "      <td>-0.354590</td>\n",
       "      <td>0.222466</td>\n",
       "      <td>-0.228492</td>\n",
       "      <td>-0.225372</td>\n",
       "      <td>0.273172</td>\n",
       "      <td>-0.209986</td>\n",
       "      <td>-0.506701</td>\n",
       "      <td>0.440985</td>\n",
       "      <td>0.605579</td>\n",
       "      <td>0.664336</td>\n",
       "      <td>125.921873</td>\n",
       "    </tr>\n",
       "    <tr>\n",
       "      <th>2</th>\n",
       "      <td>0.127144</td>\n",
       "      <td>0.170457</td>\n",
       "      <td>-0.203036</td>\n",
       "      <td>-0.232497</td>\n",
       "      <td>-0.285122</td>\n",
       "      <td>0.188935</td>\n",
       "      <td>0.147373</td>\n",
       "      <td>-0.014930</td>\n",
       "      <td>-0.887145</td>\n",
       "      <td>0.389831</td>\n",
       "      <td>142.921017</td>\n",
       "    </tr>\n",
       "  </tbody>\n",
       "</table>\n",
       "</div>"
      ],
      "text/plain": [
       "               MKI67      EGFR       PGR     ERBB2   Hormone  Radiotherapy  \\\n",
       "Assignment                                                                   \n",
       "0           0.502682 -0.639135  0.692626  0.724874 -0.145088      0.150649   \n",
       "1          -0.354590  0.222466 -0.228492 -0.225372  0.273172     -0.209986   \n",
       "2           0.127144  0.170457 -0.203036 -0.232497 -0.285122      0.188935   \n",
       "\n",
       "            Chemotherapy  ER-positive  Age at diagnosis     Event        Time  \n",
       "Assignment                                                                     \n",
       "0               0.762719    -0.810429          0.008395  0.664474  104.358480  \n",
       "1              -0.506701     0.440985          0.605579  0.664336  125.921873  \n",
       "2               0.147373    -0.014930         -0.887145  0.389831  142.921017  "
      ]
     },
     "execution_count": 15,
     "metadata": {},
     "output_type": "execute_result"
    }
   ],
   "source": [
    "print(\"Characteristics Clusters\")\n",
    "pd.concat([pd.DataFrame(x, columns = covariates), clusters_assignments], axis = 1).groupby('Assignment').mean()"
   ]
  },
  {
   "cell_type": "code",
   "execution_count": null,
   "metadata": {},
   "outputs": [
    {
     "name": "stdout",
     "output_type": "stream",
     "text": [
      "Percentage Population\n"
     ]
    },
    {
     "data": {
      "text/plain": [
       "Assignment\n",
       "0    23.949580\n",
       "1    45.063025\n",
       "2    30.987395\n",
       "dtype: float64"
      ]
     },
     "execution_count": 16,
     "metadata": {},
     "output_type": "execute_result"
    }
   ],
   "source": [
    "print(\"Percentage Population\")\n",
    "clusters_assignments.groupby('Assignment').size() * 100 / len(clusters_assignments)"
   ]
  },
  {
   "cell_type": "code",
   "execution_count": null,
   "metadata": {},
   "outputs": [
    {
     "name": "stdout",
     "output_type": "stream",
     "text": [
      "Censored\n"
     ]
    },
    {
     "data": {
      "text/plain": [
       "Assignment\n",
       "0    33.552632\n",
       "1    33.566434\n",
       "2    61.016949\n",
       "Name: Event, dtype: float64"
      ]
     },
     "execution_count": 17,
     "metadata": {},
     "output_type": "execute_result"
    }
   ],
   "source": [
    "print(\"Censored\")\n",
    "(1 - clusters_assignments.groupby('Assignment').mean()['Event']) * 100"
   ]
  },
  {
   "cell_type": "code",
   "execution_count": null,
   "metadata": {},
   "outputs": [
    {
     "name": "stdout",
     "output_type": "stream",
     "text": [
      "Difference in Survival\n"
     ]
    },
    {
     "data": {
      "text/html": [
       "<div>\n",
       "<style scoped>\n",
       "    .dataframe tbody tr th:only-of-type {\n",
       "        vertical-align: middle;\n",
       "    }\n",
       "\n",
       "    .dataframe tbody tr th {\n",
       "        vertical-align: top;\n",
       "    }\n",
       "\n",
       "    .dataframe thead th {\n",
       "        text-align: right;\n",
       "    }\n",
       "</style>\n",
       "<table border=\"1\" class=\"dataframe\">\n",
       "  <thead>\n",
       "    <tr style=\"text-align: right;\">\n",
       "      <th></th>\n",
       "      <th>test_statistic</th>\n",
       "      <th>p</th>\n",
       "      <th>-log2(p)</th>\n",
       "    </tr>\n",
       "  </thead>\n",
       "  <tbody>\n",
       "    <tr>\n",
       "      <th>0</th>\n",
       "      <td>127.126068</td>\n",
       "      <td>2.482705e-28</td>\n",
       "      <td>91.702074</td>\n",
       "    </tr>\n",
       "  </tbody>\n",
       "</table>\n",
       "</div>"
      ],
      "text/plain": [
       "   test_statistic             p   -log2(p)\n",
       "0      127.126068  2.482705e-28  91.702074"
      ]
     },
     "execution_count": 18,
     "metadata": {},
     "output_type": "execute_result"
    }
   ],
   "source": [
    "print(\"Difference in Survival\")\n",
    "multivariate_logrank_test(clusters_assignments['Time'], clusters_assignments['Assignment'], clusters_assignments['Event']).summary"
   ]
  },
  {
   "cell_type": "code",
   "execution_count": null,
   "metadata": {},
   "outputs": [
    {
     "data": {
      "image/png": "[encoded data removed]",
      "text/plain": [
       "<Figure size 432x288 with 1 Axes>"
      ]
     },
     "metadata": {
      "needs_background": "light"
     },
     "output_type": "display_data"
    }
   ],
   "source": [
    "# Display importance\n",
    "importance = []\n",
    "for j in clusters[method]:\n",
    "    importance.append(pd.Series(clusters[method][j]['importance'][0]))\n",
    "\n",
    "importance = - pd.concat(importance, axis = 1)\n",
    "importance.index = covariates\n",
    "importance.mean(1).sort_values().plot.bar(yerr = importance.std(1))\n",
    "plt.xlabel('Covariate')\n",
    "plt.ylabel('Likelihood change')\n",
    "plt.grid(alpha = 0.3)"
   ]
  },
  {
   "cell_type": "code",
   "execution_count": null,
   "metadata": {},
   "outputs": [],
   "source": [
    "from sklearn.manifold import TSNE"
   ]
  },
  {
   "cell_type": "code",
   "execution_count": null,
   "metadata": {},
   "outputs": [],
   "source": [
    "for i in clusters[method_display]:\n",
    "    tsne = TSNE(n_components = 2, random_state=0)\n",
    "    tsne = pd.DataFrame(tsne.fit_transform(clusters[method_display][i]['alphas_train']), columns = ['Projection 1', 'Projection 2'], index = clusters[method_display][i]['alphas_train'].index)\n",
    "    tsne['Survival time'] = (t[tsne.index]) #np.digitize(t[tsne.index], [0,100,200,400])\n",
    "    tsne.plot.scatter('Projection 1', 'Projection 2', c = 'Survival time', cmap='viridis', alpha = 0.5)\n",
    "    plt.show()"
   ]
  },
  {
   "cell_type": "markdown",
   "metadata": {},
   "source": [
    "----------"
   ]
  },
  {
   "cell_type": "markdown",
   "metadata": {},
   "source": [
    "# Analysis number components"
   ]
  },
  {
   "cell_type": "code",
   "execution_count": null,
   "metadata": {},
   "outputs": [],
   "source": [
    "mean = results.groupby(['Model', 'Risk', 'Metric']).mean()\n",
    "mean = mean[(mean.index.get_level_values('Risk') == '1') & (mean.index.get_level_values('Metric') == 'CIS')].droplevel(['Risk', 'Metric'])\n",
    "std = results.groupby(['Model', 'Risk', 'Metric']).std()\n",
    "std = std[(std.index.get_level_values('Risk') == '1') & (std.index.get_level_values('Metric') == 'CIS')].droplevel(['Risk', 'Metric'])\n",
    "ci = 1.96 * std / np.sqrt(len(results.index.get_level_values('Fold').unique()))\n",
    "mean.columns = ['0.25', '0.5', '0.75']\n",
    "ci.columns = ['0.25', '0.5', '0.75']\n",
    "mean.plot()\n",
    "for i in mean.columns:\n",
    "    plt.fill_between(mean[i].index, mean[i] + ci[i], mean[i] - ci[i], alpha = 0.5)\n",
    "\n",
    "plt.grid(alpha = .3)\n",
    "plt.xlabel('Number cluster')\n",
    "plt.ylabel('C Index')"
   ]
  },
  {
   "cell_type": "code",
   "execution_count": null,
   "metadata": {},
   "outputs": [],
   "source": [
    "# Compute likelihood\n",
    "mean = likelihood.sort_index().mean(1)\n",
    "std = 1.96 * likelihood.sort_index().std(1) / np.sqrt(5)\n",
    "\n",
    "mean.plot()\n",
    "plt.fill_between(std.index, mean + std, mean - std, alpha = 0.3)\n",
    "#plt.legend(title = 'Fold', loc='center left', bbox_to_anchor=(1, 0.5))\n",
    "plt.grid(alpha = .3)\n",
    "plt.xlabel('Number cluster')\n",
    "plt.ylabel('Negative Log Likelihood')"
   ]
  },
  {
   "cell_type": "code",
   "execution_count": null,
   "metadata": {},
   "outputs": [],
   "source": []
  }
 ],
 "metadata": {
  "interpreter": {
   "hash": "a54f3b3a447186e9a4a83057d2abe8df010acd7b8f131225203d307ef84eba48"
  },
  "kernelspec": {
   "display_name": "Python 3.9.7 64-bit ('Jupyter': conda)",
   "name": "python3"
  },
  "language_info": {
   "codemirror_mode": {
    "name": "ipython",
    "version": 3
   },
   "file_extension": ".py",
   "mimetype": "text/x-python",
   "name": "python",
   "nbconvert_exporter": "python",
   "pygments_lexer": "ipython3",
   "version": "3.9.7"
  },
  "orig_nbformat": 4
 },
 "nbformat": 4,
 "nbformat_minor": 2
}
